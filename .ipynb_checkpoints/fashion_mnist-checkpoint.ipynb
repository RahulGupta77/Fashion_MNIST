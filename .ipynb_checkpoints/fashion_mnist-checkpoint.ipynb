{
 "cells": [
  {
   "cell_type": "code",
   "execution_count": 1,
   "id": "d5518375",
   "metadata": {},
   "outputs": [
    {
     "name": "stdout",
     "output_type": "stream",
     "text": [
      "Downloading data from https://storage.googleapis.com/tensorflow/tf-keras-datasets/train-labels-idx1-ubyte.gz\n",
      "32768/29515 [=================================] - 0s 1us/step\n",
      "40960/29515 [=========================================] - 0s 1us/step\n",
      "Downloading data from https://storage.googleapis.com/tensorflow/tf-keras-datasets/train-images-idx3-ubyte.gz\n",
      "26427392/26421880 [==============================] - 4s 0us/step\n",
      "26435584/26421880 [==============================] - 4s 0us/step\n",
      "Downloading data from https://storage.googleapis.com/tensorflow/tf-keras-datasets/t10k-labels-idx1-ubyte.gz\n",
      "16384/5148 [===============================================================================================] - 0s 0us/step\n",
      "Downloading data from https://storage.googleapis.com/tensorflow/tf-keras-datasets/t10k-images-idx3-ubyte.gz\n",
      "4423680/4422102 [==============================] - 1s 0us/step\n",
      "4431872/4422102 [==============================] - 1s 0us/step\n"
     ]
    }
   ],
   "source": [
    "import tensorflow as tf\n",
    "from tensorflow import keras\n",
    "\n",
    "(x_train, y_train), (x_val, y_val) = keras.datasets.fashion_mnist.load_data()   #built in dataset in tensorflow"
   ]
  },
  {
   "cell_type": "markdown",
   "id": "e083d82f",
   "metadata": {},
   "source": [
    "### Data preprocessing\n"
   ]
  },
  {
   "cell_type": "code",
   "execution_count": 15,
   "id": "fa595e5f",
   "metadata": {},
   "outputs": [],
   "source": [
    "def preprocess(x, y):\n",
    "  x = tf.cast(x, tf.float32) / 255.0\n",
    "  y = tf.cast(y, tf.int64)\n",
    "\n",
    "  return x, y\n",
    "\n",
    "def create_dataset(xs, ys, n_classes=10):\n",
    "  ys = tf.one_hot(ys, depth=n_classes)\n",
    "  return tf.data.Dataset.from_tensor_slices((xs, ys)) \\\n",
    "    .map(preprocess) \\\n",
    "    .shuffle(len(ys)) \\\n",
    "    .batch(128)\n"
   ]
  },
  {
   "cell_type": "markdown",
   "id": "ae929452",
   "metadata": {},
   "source": [
    "### Creating neural network"
   ]
  },
  {
   "cell_type": "code",
   "execution_count": 16,
   "id": "822481c7",
   "metadata": {},
   "outputs": [
    {
     "name": "stderr",
     "output_type": "stream",
     "text": [
      "2022-03-05 13:19:04.836269: I tensorflow/core/platform/cpu_feature_guard.cc:151] This TensorFlow binary is optimized with oneAPI Deep Neural Network Library (oneDNN) to use the following CPU instructions in performance-critical operations:  AVX2 FMA\n",
      "To enable them in other operations, rebuild TensorFlow with the appropriate compiler flags.\n"
     ]
    }
   ],
   "source": [
    "train_dataset = create_dataset(x_train, y_train)\n",
    "val_dataset = create_dataset(x_val, y_val)"
   ]
  },
  {
   "cell_type": "code",
   "execution_count": 47,
   "id": "e9309a72",
   "metadata": {},
   "outputs": [],
   "source": [
    "def custom_l2_regularizer(weights):\n",
    "    return tf.reduce_sum(0.02 * tf.square(weights))"
   ]
  },
  {
   "cell_type": "markdown",
   "id": "d15eddcd",
   "metadata": {},
   "source": [
    "### Building the neural network"
   ]
  },
  {
   "cell_type": "code",
   "execution_count": 72,
   "id": "887b5d6c",
   "metadata": {},
   "outputs": [],
   "source": [
    "\n",
    "model = keras.Sequential([\n",
    "    keras.layers.Reshape(target_shape=(28 * 28,), input_shape=(28, 28)),\n",
    "    keras.layers.Dense(units=256, activation='relu'),\n",
    "    keras.layers.Dense(units=192, activation='relu'),\n",
    "    keras.layers.Dense(units=128, activation='relu'),\n",
    "    keras.layers.Dense(units=10, activation='softmax')\n",
    "])"
   ]
  },
  {
   "cell_type": "markdown",
   "id": "88ded2b0",
   "metadata": {},
   "source": [
    "### Training the model \n"
   ]
  },
  {
   "cell_type": "code",
   "execution_count": 73,
   "id": "acfdbe57",
   "metadata": {},
   "outputs": [
    {
     "name": "stdout",
     "output_type": "stream",
     "text": [
      "Epoch 1/20\n",
      "500/500 [==============================] - 6s 9ms/step - loss: 0.5001 - accuracy: 0.8219 - val_loss: 0.3845 - val_accuracy: 0.8633\n",
      "Epoch 2/20\n",
      "500/500 [==============================] - 4s 9ms/step - loss: 0.3564 - accuracy: 0.8692 - val_loss: 0.3810 - val_accuracy: 0.8477\n",
      "Epoch 3/20\n",
      "500/500 [==============================] - 5s 10ms/step - loss: 0.3203 - accuracy: 0.8833 - val_loss: 0.3355 - val_accuracy: 0.8906\n",
      "Epoch 4/20\n",
      "500/500 [==============================] - 5s 10ms/step - loss: 0.2969 - accuracy: 0.8909 - val_loss: 0.3744 - val_accuracy: 0.8711\n",
      "Epoch 5/20\n",
      "500/500 [==============================] - 5s 10ms/step - loss: 0.2808 - accuracy: 0.8955 - val_loss: 0.3401 - val_accuracy: 0.8789\n",
      "Epoch 6/20\n",
      "500/500 [==============================] - 4s 9ms/step - loss: 0.2615 - accuracy: 0.9009 - val_loss: 0.3600 - val_accuracy: 0.8711\n",
      "Epoch 7/20\n",
      "500/500 [==============================] - 5s 10ms/step - loss: 0.2510 - accuracy: 0.9063 - val_loss: 0.3577 - val_accuracy: 0.8594\n",
      "Epoch 8/20\n",
      "500/500 [==============================] - 5s 10ms/step - loss: 0.2408 - accuracy: 0.9079 - val_loss: 0.3002 - val_accuracy: 0.8945\n",
      "Epoch 9/20\n",
      "500/500 [==============================] - 4s 8ms/step - loss: 0.2306 - accuracy: 0.9133 - val_loss: 0.2409 - val_accuracy: 0.9219\n",
      "Epoch 10/20\n",
      "500/500 [==============================] - 4s 8ms/step - loss: 0.2197 - accuracy: 0.9167 - val_loss: 0.1858 - val_accuracy: 0.9219\n",
      "Epoch 11/20\n",
      "500/500 [==============================] - 4s 9ms/step - loss: 0.2146 - accuracy: 0.9178 - val_loss: 0.3167 - val_accuracy: 0.8828\n",
      "Epoch 12/20\n",
      "500/500 [==============================] - 4s 9ms/step - loss: 0.2025 - accuracy: 0.9228 - val_loss: 0.3213 - val_accuracy: 0.8828\n",
      "Epoch 13/20\n",
      "500/500 [==============================] - 4s 9ms/step - loss: 0.1978 - accuracy: 0.9237 - val_loss: 0.4137 - val_accuracy: 0.8867\n",
      "Epoch 14/20\n",
      "500/500 [==============================] - 4s 9ms/step - loss: 0.1879 - accuracy: 0.9286 - val_loss: 0.4435 - val_accuracy: 0.8711\n",
      "Epoch 15/20\n",
      "500/500 [==============================] - 4s 9ms/step - loss: 0.1789 - accuracy: 0.9312 - val_loss: 0.3979 - val_accuracy: 0.8906\n",
      "Epoch 16/20\n",
      "500/500 [==============================] - 5s 11ms/step - loss: 0.1719 - accuracy: 0.9333 - val_loss: 0.4869 - val_accuracy: 0.8789\n",
      "Epoch 17/20\n",
      "500/500 [==============================] - 4s 9ms/step - loss: 0.1676 - accuracy: 0.9359 - val_loss: 0.3686 - val_accuracy: 0.8516\n",
      "Epoch 18/20\n",
      "500/500 [==============================] - 4s 8ms/step - loss: 0.1622 - accuracy: 0.9383 - val_loss: 0.3409 - val_accuracy: 0.9102\n",
      "Epoch 19/20\n",
      "500/500 [==============================] - 4s 9ms/step - loss: 0.1541 - accuracy: 0.9406 - val_loss: 0.2828 - val_accuracy: 0.9141\n",
      "Epoch 20/20\n",
      "500/500 [==============================] - 4s 8ms/step - loss: 0.1519 - accuracy: 0.9420 - val_loss: 0.2208 - val_accuracy: 0.9297\n"
     ]
    },
    {
     "data": {
      "text/plain": [
       "<keras.callbacks.History at 0x7fbaa67641d0>"
      ]
     },
     "execution_count": 73,
     "metadata": {},
     "output_type": "execute_result"
    }
   ],
   "source": [
    "model.compile(optimizer='adam', \n",
    "              loss=tf.losses.CategoricalCrossentropy(from_logits=True),\n",
    "              metrics=['accuracy'])\n",
    "\n",
    "model.fit(\n",
    "    train_dataset.repeat(), \n",
    "    epochs=20, \n",
    "    steps_per_epoch=500,\n",
    "    validation_data=val_dataset.repeat(), \n",
    "    validation_steps=2\n",
    ")"
   ]
  },
  {
   "cell_type": "markdown",
   "id": "bfb990be",
   "metadata": {},
   "source": [
    "### Testing the neural network"
   ]
  },
  {
   "cell_type": "code",
   "execution_count": 74,
   "id": "f03a6697",
   "metadata": {},
   "outputs": [],
   "source": [
    "predictions = model.predict(val_dataset)"
   ]
  },
  {
   "cell_type": "code",
   "execution_count": 75,
   "id": "5633d625",
   "metadata": {},
   "outputs": [
    {
     "name": "stdout",
     "output_type": "stream",
     "text": [
      "Model: \"sequential_9\"\n",
      "_________________________________________________________________\n",
      " Layer (type)                Output Shape              Param #   \n",
      "=================================================================\n",
      " reshape_9 (Reshape)         (None, 784)               0         \n",
      "                                                                 \n",
      " dense_48 (Dense)            (None, 256)               200960    \n",
      "                                                                 \n",
      " dense_49 (Dense)            (None, 192)               49344     \n",
      "                                                                 \n",
      " dense_50 (Dense)            (None, 128)               24704     \n",
      "                                                                 \n",
      " dense_51 (Dense)            (None, 10)                1290      \n",
      "                                                                 \n",
      "=================================================================\n",
      "Total params: 276,298\n",
      "Trainable params: 276,298\n",
      "Non-trainable params: 0\n",
      "_________________________________________________________________\n"
     ]
    }
   ],
   "source": [
    "model.summary()"
   ]
  },
  {
   "cell_type": "code",
   "execution_count": 77,
   "id": "1b3f2e7f",
   "metadata": {},
   "outputs": [
    {
     "name": "stdout",
     "output_type": "stream",
     "text": [
      "INFO:tensorflow:Assets written to: saved_model/assets\n"
     ]
    }
   ],
   "source": [
    "!mkdir -p saved_model\n",
    "model.save('saved_model/')"
   ]
  },
  {
   "cell_type": "code",
   "execution_count": 79,
   "id": "3de3b927",
   "metadata": {},
   "outputs": [
    {
     "name": "stdout",
     "output_type": "stream",
     "text": [
      "79/79 - 1s - loss: 0.3672 - accuracy: 0.8950 - 621ms/epoch - 8ms/step\n",
      "model, accuracy: 89.50%\n"
     ]
    }
   ],
   "source": [
    "loss, acc = model.evaluate(val_dataset, verbose=2)\n",
    "print('model, accuracy: {:5.2f}%'.format(100 * acc))"
   ]
  },
  {
   "cell_type": "code",
   "execution_count": null,
   "id": "1eb46e61",
   "metadata": {},
   "outputs": [],
   "source": []
  }
 ],
 "metadata": {
  "kernelspec": {
   "display_name": "Python 3 (ipykernel)",
   "language": "python",
   "name": "python3"
  },
  "language_info": {
   "codemirror_mode": {
    "name": "ipython",
    "version": 3
   },
   "file_extension": ".py",
   "mimetype": "text/x-python",
   "name": "python",
   "nbconvert_exporter": "python",
   "pygments_lexer": "ipython3",
   "version": "3.7.11"
  }
 },
 "nbformat": 4,
 "nbformat_minor": 5
}
